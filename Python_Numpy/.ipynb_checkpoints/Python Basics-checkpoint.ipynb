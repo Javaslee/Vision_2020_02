{
 "cells": [
  {
   "cell_type": "code",
   "execution_count": 36,
   "metadata": {},
   "outputs": [],
   "source": [
    "import random"
   ]
  },
  {
   "cell_type": "markdown",
   "metadata": {},
   "source": [
    "## Tuples"
   ]
  },
  {
   "cell_type": "code",
   "execution_count": 76,
   "metadata": {},
   "outputs": [
    {
     "name": "stdout",
     "output_type": "stream",
     "text": [
      "(1, 2, 3)\n"
     ]
    }
   ],
   "source": [
    "t = (1, 2, 3)\n",
    "print(t)"
   ]
  },
  {
   "cell_type": "code",
   "execution_count": 77,
   "metadata": {},
   "outputs": [
    {
     "ename": "TypeError",
     "evalue": "'tuple' object does not support item assignment",
     "output_type": "error",
     "traceback": [
      "\u001b[0;31m---------------------------------------------------------------------------\u001b[0m",
      "\u001b[0;31mTypeError\u001b[0m                                 Traceback (most recent call last)",
      "\u001b[0;32m<ipython-input-77-b9aa97991a78>\u001b[0m in \u001b[0;36m<module>\u001b[0;34m\u001b[0m\n\u001b[0;32m----> 1\u001b[0;31m \u001b[0mt\u001b[0m\u001b[0;34m[\u001b[0m\u001b[0;36m1\u001b[0m\u001b[0;34m]\u001b[0m \u001b[0;34m=\u001b[0m \u001b[0;36m2\u001b[0m\u001b[0;34m\u001b[0m\u001b[0;34m\u001b[0m\u001b[0m\n\u001b[0m",
      "\u001b[0;31mTypeError\u001b[0m: 'tuple' object does not support item assignment"
     ]
    }
   ],
   "source": [
    "t[1] = 2"
   ]
  },
  {
   "cell_type": "markdown",
   "metadata": {},
   "source": [
    "## Lists"
   ]
  },
  {
   "cell_type": "markdown",
   "metadata": {},
   "source": [
    "### Basic methods"
   ]
  },
  {
   "cell_type": "code",
   "execution_count": 39,
   "metadata": {},
   "outputs": [
    {
     "name": "stdout",
     "output_type": "stream",
     "text": [
      "[1, 2, 3, 4, 5] list has 5 elements\n"
     ]
    }
   ],
   "source": [
    "x = [1, 2, 3, 4, 5]\n",
    "print(x, \"list has\", len(x), \"elements\")"
   ]
  },
  {
   "cell_type": "code",
   "execution_count": 9,
   "metadata": {},
   "outputs": [
    {
     "name": "stdout",
     "output_type": "stream",
     "text": [
      "5 [1, 2, 3, 4]\n"
     ]
    }
   ],
   "source": [
    "a = x.pop()\n",
    "print(a, x)"
   ]
  },
  {
   "cell_type": "code",
   "execution_count": 32,
   "metadata": {},
   "outputs": [
    {
     "name": "stdout",
     "output_type": "stream",
     "text": [
      "3 not in [1, 2, 4, 5]\n",
      "[1, 2, 4, 5]\n"
     ]
    }
   ],
   "source": [
    "value = 3\n",
    "if value in x:\n",
    "    x.remove(value)\n",
    "else:\n",
    "    print(value, \"not in\", x)\n",
    "print(x)"
   ]
  },
  {
   "cell_type": "code",
   "execution_count": 33,
   "metadata": {},
   "outputs": [
    {
     "name": "stdout",
     "output_type": "stream",
     "text": [
      "[1, 2, 5]\n"
     ]
    }
   ],
   "source": [
    "del x[2]\n",
    "print(x)"
   ]
  },
  {
   "cell_type": "code",
   "execution_count": 40,
   "metadata": {},
   "outputs": [
    {
     "name": "stdout",
     "output_type": "stream",
     "text": [
      "[1, 2, 3, 4, 5, 'a', 2.3, 'qwerty', 55, 20]\n"
     ]
    }
   ],
   "source": [
    "x += ['a', 2.3, 'qwerty', 55]\n",
    "x.append(random.randint(1, 100))\n",
    "print(x)"
   ]
  },
  {
   "cell_type": "code",
   "execution_count": 47,
   "metadata": {},
   "outputs": [
    {
     "name": "stdout",
     "output_type": "stream",
     "text": [
      "['a', 3, 2, 55, 1, 20, 5, 2.3, 'qwerty', 4]\n"
     ]
    }
   ],
   "source": [
    "random.shuffle(x)\n",
    "print(x)"
   ]
  },
  {
   "cell_type": "code",
   "execution_count": 51,
   "metadata": {},
   "outputs": [
    {
     "name": "stdout",
     "output_type": "stream",
     "text": [
      "[31, 73, 40, 33, 58]\n",
      "[31, 33, 40, 58, 73]\n",
      "[73, 58, 40, 33, 31]\n"
     ]
    }
   ],
   "source": [
    "x = random.sample(range(1, 100), 5)\n",
    "print(x)\n",
    "x.sort()\n",
    "print(x)\n",
    "x.sort(reverse=True)\n",
    "print(x)"
   ]
  },
  {
   "cell_type": "markdown",
   "metadata": {},
   "source": [
    "### Slicing"
   ]
  },
  {
   "cell_type": "code",
   "execution_count": 66,
   "metadata": {},
   "outputs": [
    {
     "name": "stdout",
     "output_type": "stream",
     "text": [
      "[27, 35, 66, 43, 32, 45, 21, 37, 93, 71]\n",
      "27 45 71 45\n"
     ]
    }
   ],
   "source": [
    "x = random.sample(range(1, 100), 10)\n",
    "print(x)\n",
    "print(x[0], x[5], x[-1], x[-5])"
   ]
  },
  {
   "cell_type": "code",
   "execution_count": 75,
   "metadata": {},
   "outputs": [
    {
     "name": "stdout",
     "output_type": "stream",
     "text": [
      "[27, 35, 66]\n",
      "[43, 32, 45, 21, 37, 93]\n",
      "[43, 32, 45, 21, 37, 93, 71]\n",
      "[27, 35, 66, 43]\n",
      "[37, 93, 71]\n",
      "[27, 66, 32, 21, 93]\n",
      "[71, 93, 37, 21]\n",
      "[71, 93, 37, 21, 45, 32, 43, 66, 35, 27]\n"
     ]
    }
   ],
   "source": [
    "y = x[0:3]\n",
    "print(y)\n",
    "\n",
    "z = x[3:-1]\n",
    "print(z)\n",
    "\n",
    "print(x[3:])\n",
    "print(x[:4])\n",
    "print(x[-3:])\n",
    "print(x[::2])\n",
    "print(x[-1:5:-1])\n",
    "print(x[::-1])"
   ]
  },
  {
   "cell_type": "markdown",
   "metadata": {},
   "source": [
    "## Dictionaries"
   ]
  },
  {
   "cell_type": "code",
   "execution_count": 79,
   "metadata": {},
   "outputs": [
    {
     "name": "stdout",
     "output_type": "stream",
     "text": [
      "1\n"
     ]
    }
   ],
   "source": [
    "numbers = {'one':1, 'two':2, 'three':3}\n",
    "\n",
    "print(numbers['one'])"
   ]
  },
  {
   "cell_type": "code",
   "execution_count": 81,
   "metadata": {},
   "outputs": [
    {
     "name": "stdout",
     "output_type": "stream",
     "text": [
      "{'one': 1, 'two': 2, 'three': 3, 'ninety': 90}\n"
     ]
    }
   ],
   "source": [
    "numbers['ninety'] = 90\n",
    "print(numbers)"
   ]
  },
  {
   "cell_type": "code",
   "execution_count": 86,
   "metadata": {},
   "outputs": [
    {
     "name": "stdout",
     "output_type": "stream",
     "text": [
      "one 1\n",
      "two 2\n",
      "three 3\n",
      "ninety 90\n",
      "one\n",
      "two\n",
      "three\n",
      "ninety\n",
      "1\n",
      "2\n",
      "3\n",
      "90\n"
     ]
    }
   ],
   "source": [
    "for key, value in numbers.items():\n",
    "    print(key, value)\n",
    "    \n",
    "for key in numbers.keys():\n",
    "    print(key)\n",
    "    \n",
    "for value in numbers.values():\n",
    "    print(value)"
   ]
  },
  {
   "cell_type": "code",
   "execution_count": 88,
   "metadata": {},
   "outputs": [
    {
     "name": "stdout",
     "output_type": "stream",
     "text": [
      "4 not found\n"
     ]
    }
   ],
   "source": [
    "if 4 in numbers.values():\n",
    "    print('4 exists')\n",
    "else:\n",
    "    print('4 not found')"
   ]
  },
  {
   "cell_type": "code",
   "execution_count": 91,
   "metadata": {},
   "outputs": [
    {
     "name": "stdout",
     "output_type": "stream",
     "text": [
      "not found\n",
      "1\n"
     ]
    }
   ],
   "source": [
    "print(numbers.get(4, 'not found'))\n",
    "print(numbers.get('one', 0))"
   ]
  },
  {
   "cell_type": "markdown",
   "metadata": {},
   "source": [
    "## Sets"
   ]
  },
  {
   "cell_type": "code",
   "execution_count": 105,
   "metadata": {},
   "outputs": [
    {
     "name": "stdout",
     "output_type": "stream",
     "text": [
      "{1, 3, 4, 5}\n"
     ]
    }
   ],
   "source": [
    "x = [1, 3, 3, 4, 5]\n",
    "x = set(x)\n",
    "print(x)"
   ]
  },
  {
   "cell_type": "code",
   "execution_count": 106,
   "metadata": {},
   "outputs": [],
   "source": [
    "primes = {2, 3, 5, 7}\n",
    "odds = {1, 3, 5, 7, 9}"
   ]
  },
  {
   "cell_type": "code",
   "execution_count": 108,
   "metadata": {},
   "outputs": [
    {
     "name": "stdout",
     "output_type": "stream",
     "text": [
      "{1, 2, 3, 5, 7, 9}\n",
      "{1, 2, 3, 5, 7, 9}\n"
     ]
    }
   ],
   "source": [
    "# union\n",
    "u = primes | odds\n",
    "print(u)\n",
    "print(primes.union(odds))"
   ]
  },
  {
   "cell_type": "code",
   "execution_count": 109,
   "metadata": {},
   "outputs": [
    {
     "name": "stdout",
     "output_type": "stream",
     "text": [
      "{3, 5, 7}\n",
      "{3, 5, 7}\n"
     ]
    }
   ],
   "source": [
    "# intersection\n",
    "i = primes & odds\n",
    "print(i)\n",
    "print(primes.intersection(odds))"
   ]
  },
  {
   "cell_type": "code",
   "execution_count": 110,
   "metadata": {},
   "outputs": [
    {
     "name": "stdout",
     "output_type": "stream",
     "text": [
      "{1, 2, 9}\n",
      "{1, 2, 9}\n"
     ]
    }
   ],
   "source": [
    "# Difference\n",
    "d = primes ^ odds\n",
    "print(d)\n",
    "print(primes.symmetric_difference(odds))"
   ]
  },
  {
   "cell_type": "markdown",
   "metadata": {},
   "source": [
    "## Functions and classes"
   ]
  },
  {
   "cell_type": "markdown",
   "metadata": {},
   "source": [
    "### Functions"
   ]
  },
  {
   "cell_type": "code",
   "execution_count": 114,
   "metadata": {},
   "outputs": [
    {
     "name": "stdout",
     "output_type": "stream",
     "text": [
      "[1, 1, 2, 3, 5]\n"
     ]
    }
   ],
   "source": [
    "def fibonacci(n):\n",
    "    L = []\n",
    "    a, b = 0, 1\n",
    "    while len(L) < n:\n",
    "        a, b = b, a+b\n",
    "        L.append(a)\n",
    "    return L\n",
    "\n",
    "print(fibonacci(5))"
   ]
  },
  {
   "cell_type": "code",
   "execution_count": 116,
   "metadata": {},
   "outputs": [
    {
     "name": "stdout",
     "output_type": "stream",
     "text": [
      "Say my name\n",
      "You are god damn right\n"
     ]
    }
   ],
   "source": [
    "def say_my_name(name='Heizenberg'):\n",
    "    if name == 'Heizenberg':\n",
    "        print('You are god damn right')\n",
    "    else:\n",
    "        print(name)\n",
    "        \n",
    "print('Say my name')\n",
    "say_my_name()"
   ]
  },
  {
   "cell_type": "markdown",
   "metadata": {},
   "source": [
    "### Lambdas"
   ]
  },
  {
   "cell_type": "code",
   "execution_count": 117,
   "metadata": {},
   "outputs": [
    {
     "name": "stdout",
     "output_type": "stream",
     "text": [
      "9\n"
     ]
    }
   ],
   "source": [
    "add = lambda x, y: x + y\n",
    "print(add(4, 5))"
   ]
  },
  {
   "cell_type": "code",
   "execution_count": 58,
   "metadata": {},
   "outputs": [
    {
     "name": "stdout",
     "output_type": "stream",
     "text": [
      "[('name3', 'C', 17), ('name1', 'A', 15), ('name2', 'B', 13)]\n",
      "[('name1', 'A', 15), ('name2', 'B', 13), ('name3', 'C', 17)]\n"
     ]
    }
   ],
   "source": [
    "students = [\n",
    "    ('name1', 'A', 15),\n",
    "    ('name2', 'B', 13),\n",
    "    ('name3', 'C', 17)    \n",
    "]\n",
    "\n",
    "sort_by_age = sorted(students, key = lambda students: students[2], reverse=True)\n",
    "#students.sort(key = lambda students: students[2])\n",
    "\n",
    "print(sort_by_age)\n",
    "print(students)"
   ]
  },
  {
   "cell_type": "code",
   "execution_count": 120,
   "metadata": {},
   "outputs": [
    {
     "name": "stdout",
     "output_type": "stream",
     "text": [
      "[{'first': 'Alan', 'last': 'Turing', 'YOB': 1912}, {'first': 'Grace', 'last': 'Hopper', 'YOB': 1906}, {'first': 'Guido', 'last': 'Van Rossum', 'YOB': 1956}]\n",
      "[{'first': 'Grace', 'last': 'Hopper', 'YOB': 1906}, {'first': 'Alan', 'last': 'Turing', 'YOB': 1912}, {'first': 'Guido', 'last': 'Van Rossum', 'YOB': 1956}]\n"
     ]
    }
   ],
   "source": [
    "data = [\n",
    "    {'first':'Guido', 'last':'Van Rossum', 'YOB':1956}, \n",
    "    {'first':'Grace', 'last':'Hopper', 'YOB':1906}, \n",
    "    {'first':'Alan', 'last':'Turing', 'YOB':1912}\n",
    "]\n",
    "\n",
    "sorted_data = sorted(data, key=lambda item: item['first'])\n",
    "print(sorted_data)\n",
    "print(sorted(data, key=lambda item: item['YOB']))"
   ]
  },
  {
   "cell_type": "markdown",
   "metadata": {},
   "source": [
    "### Classes"
   ]
  },
  {
   "cell_type": "code",
   "execution_count": 155,
   "metadata": {},
   "outputs": [],
   "source": [
    "class Person:\n",
    "    \n",
    "    contact_info = {}\n",
    "    \n",
    "    __private_info = 0\n",
    "    \n",
    "    def __init__(self, name, age, info = 0):\n",
    "        self.name = name\n",
    "        self.age = age\n",
    "        self.__private_info = info\n",
    "        \n",
    "    def add_contact_info(self, contact_type, info):\n",
    "        self.contact_info[contact_type] = info\n",
    "        \n",
    "    def show_contact_info(self, contact_type = None):\n",
    "        if contact_type not in self.contact_info:\n",
    "            for contact in self.contact_info.items():\n",
    "                print(contact)\n",
    "        else:\n",
    "            print(self.contact_info[contact_type])\n",
    "            \n",
    "    def show_private(self):\n",
    "        return self.__private_info"
   ]
  },
  {
   "cell_type": "code",
   "execution_count": 157,
   "metadata": {},
   "outputs": [
    {
     "name": "stdout",
     "output_type": "stream",
     "text": [
      "123@correo.falso\n",
      "?\n"
     ]
    }
   ],
   "source": [
    "p = Person('Octavio', '?', '?')\n",
    "p.add_contact_info(\"email\", \"123@correo.falso\")\n",
    "p.add_contact_info(\"phone\", \"123456\")\n",
    "\n",
    "p.show_contact_info(\"email\")\n",
    "\n",
    "print(p.show_private())"
   ]
  },
  {
   "cell_type": "markdown",
   "metadata": {},
   "source": [
    "## Iterators"
   ]
  },
  {
   "cell_type": "code",
   "execution_count": 179,
   "metadata": {},
   "outputs": [
    {
     "name": "stdout",
     "output_type": "stream",
     "text": [
      "0 1 2 3 4 5 6 7 8 9 "
     ]
    }
   ],
   "source": [
    "for i in range(10):\n",
    "    print(i, end=' ')"
   ]
  },
  {
   "cell_type": "code",
   "execution_count": 165,
   "metadata": {},
   "outputs": [
    {
     "name": "stdout",
     "output_type": "stream",
     "text": [
      "2 4 5 8 6 "
     ]
    }
   ],
   "source": [
    "for value in random.sample(range(10), 5):\n",
    "    print(value + 1, end = ' ')"
   ]
  },
  {
   "cell_type": "code",
   "execution_count": 167,
   "metadata": {},
   "outputs": [
    {
     "name": "stdout",
     "output_type": "stream",
     "text": [
      "2\n",
      "4\n",
      "6\n",
      "8\n",
      "10\n"
     ]
    },
    {
     "ename": "StopIteration",
     "evalue": "",
     "output_type": "error",
     "traceback": [
      "\u001b[0;31m---------------------------------------------------------------------------\u001b[0m",
      "\u001b[0;31mStopIteration\u001b[0m                             Traceback (most recent call last)",
      "\u001b[0;32m<ipython-input-167-3af6aa3c156b>\u001b[0m in \u001b[0;36m<module>\u001b[0;34m\u001b[0m\n\u001b[1;32m      6\u001b[0m \u001b[0mprint\u001b[0m\u001b[0;34m(\u001b[0m\u001b[0mnext\u001b[0m\u001b[0;34m(\u001b[0m\u001b[0mI\u001b[0m\u001b[0;34m)\u001b[0m\u001b[0;34m)\u001b[0m\u001b[0;34m\u001b[0m\u001b[0;34m\u001b[0m\u001b[0m\n\u001b[1;32m      7\u001b[0m \u001b[0mprint\u001b[0m\u001b[0;34m(\u001b[0m\u001b[0mnext\u001b[0m\u001b[0;34m(\u001b[0m\u001b[0mI\u001b[0m\u001b[0;34m)\u001b[0m\u001b[0;34m)\u001b[0m\u001b[0;34m\u001b[0m\u001b[0;34m\u001b[0m\u001b[0m\n\u001b[0;32m----> 8\u001b[0;31m \u001b[0mprint\u001b[0m\u001b[0;34m(\u001b[0m\u001b[0mnext\u001b[0m\u001b[0;34m(\u001b[0m\u001b[0mI\u001b[0m\u001b[0;34m)\u001b[0m\u001b[0;34m)\u001b[0m\u001b[0;34m\u001b[0m\u001b[0;34m\u001b[0m\u001b[0m\n\u001b[0m",
      "\u001b[0;31mStopIteration\u001b[0m: "
     ]
    }
   ],
   "source": [
    "I = iter([2, 4, 6, 8, 10])\n",
    "\n",
    "print(next(I))\n",
    "print(next(I))\n",
    "print(next(I))\n",
    "print(next(I))\n",
    "print(next(I))\n",
    "print(next(I))"
   ]
  },
  {
   "cell_type": "code",
   "execution_count": 172,
   "metadata": {},
   "outputs": [
    {
     "name": "stdout",
     "output_type": "stream",
     "text": [
      "0 5\n",
      "1 4\n",
      "2 9\n",
      "3 8\n",
      "4 2\n"
     ]
    }
   ],
   "source": [
    "L = random.sample(range(10), 5)\n",
    "\n",
    "for i in range(len(L)):\n",
    "    print(i, L[i])"
   ]
  },
  {
   "cell_type": "code",
   "execution_count": 173,
   "metadata": {},
   "outputs": [
    {
     "name": "stdout",
     "output_type": "stream",
     "text": [
      "0 5\n",
      "1 4\n",
      "2 9\n",
      "3 8\n",
      "4 2\n"
     ]
    }
   ],
   "source": [
    "for i, val in enumerate(L):\n",
    "    print(i, val)"
   ]
  },
  {
   "cell_type": "code",
   "execution_count": 174,
   "metadata": {},
   "outputs": [
    {
     "name": "stdout",
     "output_type": "stream",
     "text": [
      "4 9\n",
      "3 1\n",
      "1 6\n",
      "2 7\n",
      "9 3\n"
     ]
    }
   ],
   "source": [
    "L = random.sample(range(10), 5)\n",
    "R = random.sample(range(10), 5)\n",
    "\n",
    "for l, r in zip(L, R):\n",
    "    print(l, r)"
   ]
  },
  {
   "cell_type": "code",
   "execution_count": 175,
   "metadata": {},
   "outputs": [
    {
     "name": "stdout",
     "output_type": "stream",
     "text": [
      "0\n",
      "1\n",
      "4\n",
      "9\n",
      "16\n",
      "25\n",
      "36\n",
      "49\n",
      "64\n",
      "81\n"
     ]
    }
   ],
   "source": [
    "square = lambda x: x**2\n",
    "\n",
    "for val in map(square, range(10)):\n",
    "    print(val)"
   ]
  },
  {
   "cell_type": "code",
   "execution_count": 176,
   "metadata": {},
   "outputs": [
    {
     "name": "stdout",
     "output_type": "stream",
     "text": [
      "0\n",
      "2\n",
      "4\n",
      "6\n",
      "8\n"
     ]
    }
   ],
   "source": [
    "is_even = lambda x: x % 2 == 0\n",
    "\n",
    "for val in filter(is_even, range(10)):\n",
    "    print(val)"
   ]
  },
  {
   "cell_type": "code",
   "execution_count": 178,
   "metadata": {},
   "outputs": [
    {
     "name": "stdout",
     "output_type": "stream",
     "text": [
      "45\n",
      "285\n"
     ]
    }
   ],
   "source": [
    "from functools import reduce\n",
    "\n",
    "addition = lambda x, y: x + y\n",
    "\n",
    "print(reduce(addition, range(10)))\n",
    "print(reduce(addition, map(square, range(10))))"
   ]
  },
  {
   "cell_type": "markdown",
   "metadata": {},
   "source": [
    "## List Comprehensions"
   ]
  },
  {
   "cell_type": "code",
   "execution_count": 180,
   "metadata": {},
   "outputs": [
    {
     "name": "stdout",
     "output_type": "stream",
     "text": [
      "[1, 2, 4, 5, 7, 8, 10, 11, 13, 14, 16, 17, 19]\n"
     ]
    }
   ],
   "source": [
    "print([i for i in range(20) if i % 3 > 0])"
   ]
  },
  {
   "cell_type": "code",
   "execution_count": 181,
   "metadata": {},
   "outputs": [
    {
     "name": "stdout",
     "output_type": "stream",
     "text": [
      "[1, 2, 4, 5, 7, 8, 10, 11, 13, 14, 16, 17, 19]\n"
     ]
    }
   ],
   "source": [
    "not_multiple_3 = []\n",
    "\n",
    "for i in range(20):\n",
    "    if i % 3 > 0:\n",
    "        not_multiple_3.append(i)\n",
    "        \n",
    "print(not_multiple_3)"
   ]
  },
  {
   "cell_type": "code",
   "execution_count": 182,
   "metadata": {},
   "outputs": [
    {
     "name": "stdout",
     "output_type": "stream",
     "text": [
      "[0, 1, 4, 9, 16, 25, 36, 49, 64, 81]\n"
     ]
    }
   ],
   "source": [
    "print([n ** 2 for n in range(10)])"
   ]
  },
  {
   "cell_type": "code",
   "execution_count": 184,
   "metadata": {},
   "outputs": [
    {
     "name": "stdout",
     "output_type": "stream",
     "text": [
      "[(0, 0), (0, 1), (1, 0), (1, 1)]\n"
     ]
    }
   ],
   "source": [
    "pairs = [(i, j) for i in range(2) for j in range(2)]\n",
    "print(pairs)"
   ]
  },
  {
   "cell_type": "code",
   "execution_count": 186,
   "metadata": {},
   "outputs": [
    {
     "name": "stdout",
     "output_type": "stream",
     "text": [
      "[1, 0, 0, 5, 7, 0, 0, 11, 13, 0, 0, 17, 19]\n"
     ]
    }
   ],
   "source": [
    "l = [val if val % 2 else 0 for val in range(20) if val % 3]\n",
    "print(l)"
   ]
  },
  {
   "cell_type": "code",
   "execution_count": 189,
   "metadata": {},
   "outputs": [
    {
     "name": "stdout",
     "output_type": "stream",
     "text": [
      "[1, 0, 0, 5, 7, 0, 0, 11, 13, 0, 0, 17, 19]\n"
     ]
    }
   ],
   "source": [
    "l = []\n",
    "\n",
    "for val in range(20):\n",
    "    if val % 3:\n",
    "        if val % 2:\n",
    "            l.append(val)\n",
    "        else:\n",
    "            l.append(0)\n",
    "            \n",
    "print(l)"
   ]
  },
  {
   "cell_type": "markdown",
   "metadata": {},
   "source": [
    "## Generators"
   ]
  },
  {
   "cell_type": "code",
   "execution_count": 192,
   "metadata": {},
   "outputs": [],
   "source": [
    "def gen_primes(N):\n",
    "    primes = set()\n",
    "    \n",
    "    for n in range(2, N):\n",
    "        if all(n % p > 0 for p in primes):\n",
    "            primes.add(n)\n",
    "            yield n"
   ]
  },
  {
   "cell_type": "code",
   "execution_count": 213,
   "metadata": {},
   "outputs": [
    {
     "name": "stdout",
     "output_type": "stream",
     "text": [
      "[]\n",
      "[True]\n",
      "[False, True]\n",
      "[True, True]\n",
      "[False, False, True]\n",
      "[True, True, True]\n",
      "[False, True, True, True]\n",
      "[True, False, True, True]\n",
      "{2, 3, 5, 7}\n"
     ]
    }
   ],
   "source": [
    "primes = set()\n",
    "\n",
    "for n in range(2, 10):\n",
    "    l = [n % p > 0 for p in primes]\n",
    "    if(all(l)):\n",
    "        primes.add(n)\n",
    "        \n",
    "    print(l)\n",
    "    \n",
    "print(primes)"
   ]
  },
  {
   "cell_type": "code",
   "execution_count": 205,
   "metadata": {},
   "outputs": [
    {
     "name": "stdout",
     "output_type": "stream",
     "text": [
      "2\n",
      "3\n",
      "5\n",
      "7\n",
      "11\n"
     ]
    }
   ],
   "source": [
    "generator = gen_primes(70)\n",
    "print(next(generator))\n",
    "print(next(generator))\n",
    "print(next(generator))\n",
    "print(next(generator))\n",
    "print(next(generator))"
   ]
  },
  {
   "cell_type": "markdown",
   "metadata": {},
   "source": [
    "- In creating a python generator, we use a function. But in creating an iterator in python, we use the iter() and next() functions.\n",
    "- A generator in python makes use of the ‘yield’ keyword. A python iterator doesn’t.\n",
    "- Python generator saves the states of the local variables every time ‘yield’ pauses the loop in python. An iterator does not make use of local variables, all it needs is iterable to iterate on.\n",
    "- A generator may have any number of ‘yield’ statements.\n",
    "- You can implement your own iterator using a python class; a generator does not need a class in python.\n",
    "- To write a python generator, you can either use a Python function or a comprehension. But for an iterator, you must use the iter() and next() functions.\n",
    "- Generator in python let us write fast and compact code. This is an advantage over Python iterators. They are also simpler to code than do custom iterator.\n"
   ]
  },
  {
   "cell_type": "markdown",
   "metadata": {},
   "source": [
    "## Numpy\n",
    "\n",
    "NumPy provides an efficient way to store and manipulate multidimensional dense arrays in Python. The important features of NumPy are:\n",
    "- It provides an ndarray structure, which allows efficient storage and manipulation of vectors, matrices, and higher-dimensional datasets.\n",
    "- It provides a readable and efficient syntax for operating on this data, from simple element-wise arithmetic to more complicated linear algebraic operations."
   ]
  },
  {
   "cell_type": "code",
   "execution_count": 214,
   "metadata": {},
   "outputs": [],
   "source": [
    "import numpy as np"
   ]
  },
  {
   "cell_type": "code",
   "execution_count": 216,
   "metadata": {},
   "outputs": [
    {
     "name": "stdout",
     "output_type": "stream",
     "text": [
      "[1 2 3 4 5 6 7 8 9]\n",
      "[ 1  4  9 16 25 36 49 64 81]\n"
     ]
    }
   ],
   "source": [
    "x = np.arange(1, 10)\n",
    "print(x)\n",
    "print(x**2)"
   ]
  },
  {
   "cell_type": "code",
   "execution_count": 219,
   "metadata": {
    "scrolled": true
   },
   "outputs": [
    {
     "name": "stdout",
     "output_type": "stream",
     "text": [
      "[[1 2 3]\n",
      " [4 5 6]\n",
      " [7 8 9]]\n",
      "[[1 4 7]\n",
      " [2 5 8]\n",
      " [3 6 9]]\n"
     ]
    }
   ],
   "source": [
    "M = x.reshape((3, 3))\n",
    "print(M)\n",
    "print(M.T)"
   ]
  },
  {
   "cell_type": "code",
   "execution_count": 225,
   "metadata": {},
   "outputs": [
    {
     "name": "stdout",
     "output_type": "stream",
     "text": [
      "[12 30 48]\n"
     ]
    }
   ],
   "source": [
    "print(np.dot(M, np.array([2, 2, 2]).T))"
   ]
  }
 ],
 "metadata": {
  "kernelspec": {
   "display_name": "Python 3",
   "language": "python",
   "name": "python3"
  },
  "language_info": {
   "codemirror_mode": {
    "name": "ipython",
    "version": 3
   },
   "file_extension": ".py",
   "mimetype": "text/x-python",
   "name": "python",
   "nbconvert_exporter": "python",
   "pygments_lexer": "ipython3",
   "version": "3.6.8"
  }
 },
 "nbformat": 4,
 "nbformat_minor": 2
}
